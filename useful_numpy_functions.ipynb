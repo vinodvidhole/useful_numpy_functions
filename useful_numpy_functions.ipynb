{
 "cells": [
  {
   "cell_type": "markdown",
   "id": "dcc542f7",
   "metadata": {},
   "source": [
    "# Useful Numpy functions you should know\n",
    "\n",
    "![](https://i.imgur.com/e8VRPiM.png)\n",
    "\n",
    "Numpy is an open-source library for working efficiently with arrays, the name stands for Numerical Python. It provides a high-performance multidimensional array object, and tools for working with these arrays. It is the fundamental package for scientific computing with Python. It contains various features and functions, in this article we are going to see some useful function listed below.\n",
    "\n",
    "1. ```numpy.where()```\n",
    "2. ```numpy.linalg.solve()```\n",
    "3. ```numpy.cumsum()```\n",
    "4. ```numpy.rot90()```\n",
    "5. ```numpy.tile()```"
   ]
  },
  {
   "cell_type": "code",
   "execution_count": 1,
   "id": "dbf3d1d7",
   "metadata": {},
   "outputs": [],
   "source": [
    "!pip install jovian --upgrade -q"
   ]
  },
  {
   "cell_type": "code",
   "execution_count": 2,
   "id": "e3cd0085",
   "metadata": {},
   "outputs": [],
   "source": [
    "import jovian"
   ]
  },
  {
   "cell_type": "code",
   "execution_count": 3,
   "id": "c37732ca",
   "metadata": {},
   "outputs": [
    {
     "data": {
      "application/javascript": [
       "window.require && require([\"base/js/namespace\"],function(Jupyter){Jupyter.notebook.save_checkpoint()})"
      ],
      "text/plain": [
       "<IPython.core.display.Javascript object>"
      ]
     },
     "metadata": {},
     "output_type": "display_data"
    },
    {
     "name": "stdout",
     "output_type": "stream",
     "text": [
      "[jovian] Updating notebook \"vinodvidhole/zerotoanalyst-numpy-array-operations\" on https://jovian.ai\u001b[0m\n",
      "[jovian] Committed successfully! https://jovian.ai/vinodvidhole/zerotoanalyst-numpy-array-operations\u001b[0m\n"
     ]
    },
    {
     "data": {
      "text/plain": [
       "'https://jovian.ai/vinodvidhole/zerotoanalyst-numpy-array-operations'"
      ]
     },
     "execution_count": 3,
     "metadata": {},
     "output_type": "execute_result"
    }
   ],
   "source": [
    "jovian.commit(project='zerotoanalyst-numpy-array-operations')"
   ]
  },
  {
   "cell_type": "markdown",
   "id": "ff432310",
   "metadata": {},
   "source": [
    "Let's begin by installing & importing Numpy"
   ]
  },
  {
   "cell_type": "code",
   "execution_count": 2,
   "id": "96dfe3b0",
   "metadata": {},
   "outputs": [],
   "source": [
    "!pip install numpy -q\n",
    "import numpy as np"
   ]
  },
  {
   "cell_type": "markdown",
   "id": "3827ab07",
   "metadata": {},
   "source": [
    "## 1. [numpy.where()](https://numpy.org/doc/stable/reference/generated/numpy.where.html#numpy.where)\n",
    "\n",
    "The numpy.where() function returns the indices of elements in an input array where the given condition is satisfied.\n",
    "\n",
    "**Syntax:**\n",
    "```\n",
    "numpy.where(condition[, x, y])\n",
    "Return elements, either from x or y, depending on condition.\n",
    "If only condition is given, return condition.nonzero().\n",
    "```"
   ]
  },
  {
   "cell_type": "markdown",
   "id": "fa17acfe",
   "metadata": {},
   "source": [
    "### Using numpy.where() with single condition"
   ]
  },
  {
   "cell_type": "code",
   "execution_count": 5,
   "id": "411135c5",
   "metadata": {},
   "outputs": [
    {
     "name": "stdout",
     "output_type": "stream",
     "text": [
      "Get elements <4 from following Numpy array:\n",
      "[[1 6 3]\n",
      " [4 2 9]]\n",
      "\n",
      "Elements which are <4\n",
      "[1 3 2]\n"
     ]
    }
   ],
   "source": [
    "# Create a Numpy array from a list\n",
    "arr1 = np.array([[1, 6, 3], [4, 2, 9]])\n",
    "print ('Get elements <4 from following Numpy array:')\n",
    "print(arr1)\n",
    "  \n",
    "print(\"\\nElements which are <4\")\n",
    "print(arr1[np.where(arr1<4)])"
   ]
  },
  {
   "cell_type": "markdown",
   "id": "413afffd",
   "metadata": {},
   "source": [
    "In above example we are printing only elements <4 and ignore others."
   ]
  },
  {
   "cell_type": "markdown",
   "id": "add3a1c6",
   "metadata": {},
   "source": [
    "### Using numpy.where() with multiple conditions\n",
    "\n",
    "If each conditional expression is enclosed in () and & or | is used, multiple conditions are applied."
   ]
  },
  {
   "cell_type": "code",
   "execution_count": 6,
   "id": "4d5e8bba",
   "metadata": {},
   "outputs": [
    {
     "name": "stdout",
     "output_type": "stream",
     "text": [
      "[[0 1 2]\n",
      " [3 4 5]\n",
      " [6 7 8]]\n",
      "\n",
      "Using multiple conditions\n",
      "\n",
      "[[-1 -1 -1]\n",
      " [ 1  1  1]\n",
      " [-1 -1 -1]]\n"
     ]
    }
   ],
   "source": [
    "# Create a 3x3 matrix \n",
    "a = np.arange(9).reshape((3, 3))\n",
    "print(a)\n",
    "\n",
    "print(\"\\nUsing multiple conditions\\n\")\n",
    "print(np.where((a > 2) & (a < 6), 1, -1))"
   ]
  },
  {
   "cell_type": "markdown",
   "id": "7dbc7b63",
   "metadata": {},
   "source": [
    "In above example, we are returning 1 if `(a > 2) & (a < 6)` condition is passed and -1 if its failed.   "
   ]
  },
  {
   "cell_type": "markdown",
   "id": "96eca241",
   "metadata": {},
   "source": [
    "### Using np.where() without any condition expression\n",
    "\n",
    "In the previous examples we passed a condition expression as the first argument, which will be evaluated to a bool array. But we can pass a bool array too instead of that."
   ]
  },
  {
   "cell_type": "code",
   "execution_count": 7,
   "id": "fc3c2a44",
   "metadata": {},
   "outputs": [
    {
     "name": "stdout",
     "output_type": "stream",
     "text": [
      "['apple' 'burger' 'fries']\n"
     ]
    }
   ],
   "source": [
    "result = np.where([True, False, False],\n",
    "                  ['apple', 'orange', 'banana'],\n",
    "                  ['pizza', 'burger', 'fries'])\n",
    "print(result)"
   ]
  },
  {
   "cell_type": "markdown",
   "id": "552872c5",
   "metadata": {},
   "source": [
    "IN this example it returns an array of elements from first list where the condition is True, and elements from a second list elsewhere."
   ]
  },
  {
   "cell_type": "markdown",
   "id": "f75b5054",
   "metadata": {},
   "source": [
    "Hopefully you have learned the different usage of `numpy.where()`. Lets move ahead with the next Numpy function."
   ]
  },
  {
   "cell_type": "markdown",
   "id": "666bc3dd",
   "metadata": {},
   "source": [
    "## 2. [numpy.linalg.solve()](https://numpy.org/doc/stable/reference/generated/numpy.linalg.solve.html)\n",
    "\n",
    "Solve a linear matrix equation, or system of linear scalar equations.\n",
    "\n",
    "**Syntax:**\n",
    "```\n",
    "linalg.solve(a, b)\n",
    "Computes the “exact” solution, x, of the well-determined, i.e., full rank, linear matrix equation ax = b.\n",
    "```"
   ]
  },
  {
   "cell_type": "markdown",
   "id": "615b8740",
   "metadata": {},
   "source": [
    "### Basic example of solve()\n",
    "Lets Try to solve following linear equation using built in Numpy function. \n",
    "```\n",
    "4x  + 3y = 20\n",
    "-5x + 9y = 26\n",
    "```"
   ]
  },
  {
   "cell_type": "code",
   "execution_count": 8,
   "id": "2b1dd5f9",
   "metadata": {},
   "outputs": [
    {
     "name": "stdout",
     "output_type": "stream",
     "text": [
      "[2. 4.]\n"
     ]
    }
   ],
   "source": [
    "A = np.array([[4, 3], [-5, 9]])\n",
    "B = np.array([20,26])\n",
    "X2 = np.linalg.solve(A,B)\n",
    "\n",
    "print(X2)"
   ]
  },
  {
   "cell_type": "markdown",
   "id": "7cc043b7",
   "metadata": {},
   "source": [
    "Here we have created 2 matrices A & B, Matrix A represents x & y values and Matrix B is storing right hand side values of the equations. `np.linalg.solve()` function is returning solution of the equation."
   ]
  },
  {
   "cell_type": "markdown",
   "id": "458b5139",
   "metadata": {},
   "source": [
    "### Real world use case for solve()\n",
    "\n",
    "Suppose, a fruit-seller sold 20 apples and 10 oranges in one day for a total of 35. The next day he sold 17 apples and 22 oranges for 50. If the prices of the fruits remained unchanged on both the days, what was the price of one apple and one orange?\n",
    "\n",
    "Let's say the price of one apple is x and the price of one orange is y. The above problem can be converted like this:\n",
    "\n",
    "```\n",
    "20x + 10y = 35\n",
    "17x + 22y = 50\n",
    "```"
   ]
  },
  {
   "cell_type": "code",
   "execution_count": 9,
   "id": "63769b4d",
   "metadata": {},
   "outputs": [
    {
     "name": "stdout",
     "output_type": "stream",
     "text": [
      "[1.  1.5]\n"
     ]
    }
   ],
   "source": [
    "A = np.array([[20, 10], [17, 22]])\n",
    "B = np.array([35, 50])\n",
    "X = np.linalg.solve(A,B)\n",
    "\n",
    "print(X)"
   ]
  },
  {
   "cell_type": "markdown",
   "id": "d3e26e18",
   "metadata": {},
   "source": [
    "The output shows that the price of one apple is 1 and the price of one orange is 1.5"
   ]
  },
  {
   "cell_type": "markdown",
   "id": "55201e63",
   "metadata": {},
   "source": [
    "### Possible breaking case \n",
    "\n",
    "Lets discuss about the failures may occur while using this function. \n",
    "\n",
    "Here I am using same example of apple & oranges. Please note i did slight change in matrix A"
   ]
  },
  {
   "cell_type": "code",
   "execution_count": 10,
   "id": "0764e8c8",
   "metadata": {},
   "outputs": [
    {
     "ename": "LinAlgError",
     "evalue": "Last 2 dimensions of the array must be square",
     "output_type": "error",
     "traceback": [
      "\u001b[0;31m---------------------------------------------------------------------------\u001b[0m",
      "\u001b[0;31mLinAlgError\u001b[0m                               Traceback (most recent call last)",
      "\u001b[0;32m/tmp/ipykernel_60/3510313413.py\u001b[0m in \u001b[0;36m<module>\u001b[0;34m\u001b[0m\n\u001b[1;32m      1\u001b[0m \u001b[0mA\u001b[0m \u001b[0;34m=\u001b[0m \u001b[0mnp\u001b[0m\u001b[0;34m.\u001b[0m\u001b[0marray\u001b[0m\u001b[0;34m(\u001b[0m\u001b[0;34m[\u001b[0m\u001b[0;34m[\u001b[0m\u001b[0;36m20\u001b[0m\u001b[0;34m]\u001b[0m\u001b[0;34m,\u001b[0m \u001b[0;34m[\u001b[0m\u001b[0;36m17\u001b[0m\u001b[0;34m]\u001b[0m\u001b[0;34m]\u001b[0m\u001b[0;34m)\u001b[0m\u001b[0;34m\u001b[0m\u001b[0;34m\u001b[0m\u001b[0m\n\u001b[1;32m      2\u001b[0m \u001b[0mB\u001b[0m \u001b[0;34m=\u001b[0m \u001b[0mnp\u001b[0m\u001b[0;34m.\u001b[0m\u001b[0marray\u001b[0m\u001b[0;34m(\u001b[0m\u001b[0;34m[\u001b[0m\u001b[0;36m35\u001b[0m\u001b[0;34m,\u001b[0m \u001b[0;36m50\u001b[0m\u001b[0;34m]\u001b[0m\u001b[0;34m)\u001b[0m\u001b[0;34m\u001b[0m\u001b[0;34m\u001b[0m\u001b[0m\n\u001b[0;32m----> 3\u001b[0;31m \u001b[0mX\u001b[0m \u001b[0;34m=\u001b[0m \u001b[0mnp\u001b[0m\u001b[0;34m.\u001b[0m\u001b[0mlinalg\u001b[0m\u001b[0;34m.\u001b[0m\u001b[0msolve\u001b[0m\u001b[0;34m(\u001b[0m\u001b[0mA\u001b[0m\u001b[0;34m,\u001b[0m\u001b[0mB\u001b[0m\u001b[0;34m)\u001b[0m\u001b[0;34m\u001b[0m\u001b[0;34m\u001b[0m\u001b[0m\n\u001b[0m\u001b[1;32m      4\u001b[0m \u001b[0;34m\u001b[0m\u001b[0m\n\u001b[1;32m      5\u001b[0m \u001b[0mprint\u001b[0m\u001b[0;34m(\u001b[0m\u001b[0mX\u001b[0m\u001b[0;34m)\u001b[0m\u001b[0;34m\u001b[0m\u001b[0;34m\u001b[0m\u001b[0m\n",
      "\u001b[0;32m<__array_function__ internals>\u001b[0m in \u001b[0;36msolve\u001b[0;34m(*args, **kwargs)\u001b[0m\n",
      "\u001b[0;32m/opt/conda/lib/python3.9/site-packages/numpy/linalg/linalg.py\u001b[0m in \u001b[0;36msolve\u001b[0;34m(a, b)\u001b[0m\n\u001b[1;32m    378\u001b[0m     \u001b[0ma\u001b[0m\u001b[0;34m,\u001b[0m \u001b[0m_\u001b[0m \u001b[0;34m=\u001b[0m \u001b[0m_makearray\u001b[0m\u001b[0;34m(\u001b[0m\u001b[0ma\u001b[0m\u001b[0;34m)\u001b[0m\u001b[0;34m\u001b[0m\u001b[0;34m\u001b[0m\u001b[0m\n\u001b[1;32m    379\u001b[0m     \u001b[0m_assert_stacked_2d\u001b[0m\u001b[0;34m(\u001b[0m\u001b[0ma\u001b[0m\u001b[0;34m)\u001b[0m\u001b[0;34m\u001b[0m\u001b[0;34m\u001b[0m\u001b[0m\n\u001b[0;32m--> 380\u001b[0;31m     \u001b[0m_assert_stacked_square\u001b[0m\u001b[0;34m(\u001b[0m\u001b[0ma\u001b[0m\u001b[0;34m)\u001b[0m\u001b[0;34m\u001b[0m\u001b[0;34m\u001b[0m\u001b[0m\n\u001b[0m\u001b[1;32m    381\u001b[0m     \u001b[0mb\u001b[0m\u001b[0;34m,\u001b[0m \u001b[0mwrap\u001b[0m \u001b[0;34m=\u001b[0m \u001b[0m_makearray\u001b[0m\u001b[0;34m(\u001b[0m\u001b[0mb\u001b[0m\u001b[0;34m)\u001b[0m\u001b[0;34m\u001b[0m\u001b[0;34m\u001b[0m\u001b[0m\n\u001b[1;32m    382\u001b[0m     \u001b[0mt\u001b[0m\u001b[0;34m,\u001b[0m \u001b[0mresult_t\u001b[0m \u001b[0;34m=\u001b[0m \u001b[0m_commonType\u001b[0m\u001b[0;34m(\u001b[0m\u001b[0ma\u001b[0m\u001b[0;34m,\u001b[0m \u001b[0mb\u001b[0m\u001b[0;34m)\u001b[0m\u001b[0;34m\u001b[0m\u001b[0;34m\u001b[0m\u001b[0m\n",
      "\u001b[0;32m/opt/conda/lib/python3.9/site-packages/numpy/linalg/linalg.py\u001b[0m in \u001b[0;36m_assert_stacked_square\u001b[0;34m(*arrays)\u001b[0m\n\u001b[1;32m    201\u001b[0m         \u001b[0mm\u001b[0m\u001b[0;34m,\u001b[0m \u001b[0mn\u001b[0m \u001b[0;34m=\u001b[0m \u001b[0ma\u001b[0m\u001b[0;34m.\u001b[0m\u001b[0mshape\u001b[0m\u001b[0;34m[\u001b[0m\u001b[0;34m-\u001b[0m\u001b[0;36m2\u001b[0m\u001b[0;34m:\u001b[0m\u001b[0;34m]\u001b[0m\u001b[0;34m\u001b[0m\u001b[0;34m\u001b[0m\u001b[0m\n\u001b[1;32m    202\u001b[0m         \u001b[0;32mif\u001b[0m \u001b[0mm\u001b[0m \u001b[0;34m!=\u001b[0m \u001b[0mn\u001b[0m\u001b[0;34m:\u001b[0m\u001b[0;34m\u001b[0m\u001b[0;34m\u001b[0m\u001b[0m\n\u001b[0;32m--> 203\u001b[0;31m             \u001b[0;32mraise\u001b[0m \u001b[0mLinAlgError\u001b[0m\u001b[0;34m(\u001b[0m\u001b[0;34m'Last 2 dimensions of the array must be square'\u001b[0m\u001b[0;34m)\u001b[0m\u001b[0;34m\u001b[0m\u001b[0;34m\u001b[0m\u001b[0m\n\u001b[0m\u001b[1;32m    204\u001b[0m \u001b[0;34m\u001b[0m\u001b[0m\n\u001b[1;32m    205\u001b[0m \u001b[0;32mdef\u001b[0m \u001b[0m_assert_finite\u001b[0m\u001b[0;34m(\u001b[0m\u001b[0;34m*\u001b[0m\u001b[0marrays\u001b[0m\u001b[0;34m)\u001b[0m\u001b[0;34m:\u001b[0m\u001b[0;34m\u001b[0m\u001b[0;34m\u001b[0m\u001b[0m\n",
      "\u001b[0;31mLinAlgError\u001b[0m: Last 2 dimensions of the array must be square"
     ]
    }
   ],
   "source": [
    "A = np.array([[20], [17]])\n",
    "B = np.array([35, 50])\n",
    "X = np.linalg.solve(A,B)\n",
    "\n",
    "print(X)"
   ]
  },
  {
   "cell_type": "markdown",
   "id": "50c063da",
   "metadata": {},
   "source": [
    "Please checkout the error message \n",
    "```\n",
    "LinAlgError: Last 2 dimensions of the array must be square\n",
    "```\n",
    "To use solve() function A must be square and of full-rank, i.e., all rows (or, equivalently, columns) must be linearly independent. If A matrix is not square, it means that you either have more variables than your equations or the other way around. So please try to avoid such issues while using this function."
   ]
  },
  {
   "cell_type": "markdown",
   "id": "35945381",
   "metadata": {},
   "source": [
    "## 3. [numpy.cumsum()](https://numpy.org/doc/stable/reference/generated/numpy.cumsum.html?highlight=cumsum#numpy.cumsum)\n",
    "\n",
    "This function returns the cumulative sun of array elements.\n",
    "\n",
    "**Syntax:**\n",
    "```\n",
    "numpy.cumsum(a, axis=None, dtype=None, out=None)[source]\n",
    "Return the cumulative sum of the elements along a given axis. If axis is provided, an array is returned with the cumulative sun of elements along the axes \n",
    "```"
   ]
  },
  {
   "cell_type": "markdown",
   "id": "0c9cb663",
   "metadata": {},
   "source": [
    "### Cumulative Sum of Numpy Array Elements without axis"
   ]
  },
  {
   "cell_type": "code",
   "execution_count": 11,
   "id": "e79aede5",
   "metadata": {},
   "outputs": [
    {
     "name": "stdout",
     "output_type": "stream",
     "text": [
      "[[1 2]\n",
      " [3 4]\n",
      " [5 6]]\n",
      "\n",
      "Cumulative Sum of all the elements is [ 1  3  6 10 15 21]\n"
     ]
    }
   ],
   "source": [
    "arr2 = np.array(\n",
    "    [[1, 2],\n",
    "     [3, 4],\n",
    "     [5, 6]])\n",
    "print(arr2)\n",
    "total = np.cumsum(arr2)\n",
    "print('\\nCumulative Sum of all the elements is', total)"
   ]
  },
  {
   "cell_type": "markdown",
   "id": "70b2b8a1",
   "metadata": {},
   "source": [
    "Here, the matrix is first flattened to array [ 1 2 3 4 5 6]. Then the cumulative sum is calculated, resulting in [ 1 3 6 10 15 21] (i.e. [1, (1+2), (1+2+3) ....]) "
   ]
  },
  {
   "cell_type": "markdown",
   "id": "fcae0452",
   "metadata": {},
   "source": [
    "### Cumulative Sum along the axis"
   ]
  },
  {
   "cell_type": "code",
   "execution_count": 12,
   "id": "d4370eac",
   "metadata": {},
   "outputs": [
    {
     "name": "stdout",
     "output_type": "stream",
     "text": [
      "[[25 88]\n",
      " [11  4]\n",
      " [-8  9]]\n",
      "\n",
      "Cumulative Sum of elements at 0 axis :\n",
      " [[ 25  88]\n",
      " [ 36  92]\n",
      " [ 28 101]]\n",
      "\n",
      "Cumulative Sum of elements at 1 axis :\n",
      " [[ 25 113]\n",
      " [ 11  15]\n",
      " [ -8   1]]\n"
     ]
    }
   ],
   "source": [
    "arr3 = np.array(\n",
    "    [[25, 88],\n",
    "     [11, 4],\n",
    "     [-8, 9]])\n",
    "print(arr3)\n",
    "\n",
    "axis_0_total = np.cumsum(arr3, axis=0)\n",
    "print('\\nCumulative Sum of elements at 0 axis :\\n',axis_0_total)\n",
    "\n",
    "axis_1_total = np.cumsum(arr3, axis=1)\n",
    "print('\\nCumulative Sum of elements at 1 axis :\\n',axis_1_total)"
   ]
  },
  {
   "cell_type": "markdown",
   "id": "dd9979d7",
   "metadata": {},
   "source": [
    "you can see below how the calculation is performed for each case.\n",
    "Explanation for 0 axis:\n",
    "```\n",
    "[[ 25         88    ]\n",
    " [ 25+11      88+4  ]\n",
    " [ 25+11+(-8) 88+4+9]]\n",
    "```\n",
    "\n",
    "Explanation for 1 axis:\n",
    "```\n",
    "[[ 25  25 +88]\n",
    " [ 11  11+4  ]\n",
    " [ -8  -8+9  ]]\n",
    "```\n"
   ]
  },
  {
   "cell_type": "markdown",
   "id": "f251261b",
   "metadata": {},
   "source": [
    "### Specifying data type for the cumulative sum array"
   ]
  },
  {
   "cell_type": "code",
   "execution_count": 13,
   "id": "bab309ad",
   "metadata": {},
   "outputs": [
    {
     "name": "stdout",
     "output_type": "stream",
     "text": [
      "[[1.  2. ]\n",
      " [3.  4.6]\n",
      " [5.  6. ]]\n",
      "\n",
      "Cumulative Sum of elements at 1-axis is:\n",
      " [[ 1  3]\n",
      " [ 3  7]\n",
      " [ 5 11]]\n"
     ]
    }
   ],
   "source": [
    "arr4 = np.array(\n",
    "    [[1, 2],\n",
    "     [3, 4.6],\n",
    "     [5, 6]])\n",
    "\n",
    "print(arr4)\n",
    "total_1_axis = np.cumsum(arr4, axis=1, dtype=int)\n",
    "print('\\nCumulative Sum of elements at 1-axis is:\\n',total_1_axis)"
   ]
  },
  {
   "cell_type": "markdown",
   "id": "65827738",
   "metadata": {},
   "source": [
    "in this example output is converted to int data type."
   ]
  },
  {
   "cell_type": "markdown",
   "id": "21db0348",
   "metadata": {},
   "source": [
    "This concludes the `np.cumsum()` function. "
   ]
  },
  {
   "cell_type": "markdown",
   "id": "00fd67cf",
   "metadata": {},
   "source": [
    "## 4. [numpy.rot90()](https://numpy.org/doc/stable/reference/generated/numpy.rot90.html?)\n",
    "\n",
    "This function rotates an array by 90 degrees in the plane specified by axes.\n",
    "\n",
    "**Syntax**\n",
    "```\n",
    "numpy.rot90(m, k=1, axes=(0, 1))\n",
    "\n",
    "Rotate an array by 90 degrees in the plane specified by axes.\n",
    "Rotation direction is from the first towards the second axis.\n",
    "```"
   ]
  },
  {
   "cell_type": "markdown",
   "id": "82443c98",
   "metadata": {},
   "source": [
    "### Basic example of Numpy rot90() function"
   ]
  },
  {
   "cell_type": "code",
   "execution_count": 15,
   "id": "de0b977e",
   "metadata": {},
   "outputs": [
    {
     "name": "stdout",
     "output_type": "stream",
     "text": [
      "Input Array :\n",
      " [[1 2]\n",
      " [3 4]]\n",
      "Output Array:\n",
      " [[2 4]\n",
      " [1 3]]\n"
     ]
    }
   ],
   "source": [
    "arr = np.array([[1,2],[3,4]], int)\n",
    "print('Input Array :\\n',arr)\n",
    "\n",
    "print('Output Array:\\n',np.rot90(arr))"
   ]
  },
  {
   "cell_type": "markdown",
   "id": "87bb9ce1",
   "metadata": {},
   "source": [
    "In above example input array is rotated anti-clockwise by 90 degree."
   ]
  },
  {
   "cell_type": "markdown",
   "id": "a4fc4a78",
   "metadata": {},
   "source": [
    "## Using Numpy rot90() function with argument."
   ]
  },
  {
   "cell_type": "code",
   "execution_count": 16,
   "id": "7d03b8d5",
   "metadata": {},
   "outputs": [
    {
     "name": "stdout",
     "output_type": "stream",
     "text": [
      "Input Array :\n",
      " [[0 1 2]\n",
      " [3 4 5]\n",
      " [6 7 8]]\n",
      "Output Array:\n",
      " [[6 3 0]\n",
      " [7 4 1]\n",
      " [8 5 2]]\n"
     ]
    }
   ],
   "source": [
    "arr2 = np.arange(9).reshape(3,3)\n",
    "print('Input Array :\\n',arr2)\n",
    "\n",
    "print('Output Array:\\n',np.rot90(arr2,-1))"
   ]
  },
  {
   "cell_type": "markdown",
   "id": "fdb7a957",
   "metadata": {},
   "source": [
    "In above example In above example input array is rotated clockwise by 90 degree."
   ]
  },
  {
   "cell_type": "markdown",
   "id": "4611e1f8",
   "metadata": {},
   "source": [
    "### Real world use case of rot90()\n",
    "\n",
    "Create a 8x8 matrix and fill it with a checkerboard pattern?"
   ]
  },
  {
   "cell_type": "code",
   "execution_count": 3,
   "id": "8fdbf27d",
   "metadata": {},
   "outputs": [
    {
     "data": {
      "text/plain": [
       "array([[0, 1, 0, 1, 0, 1, 0, 1],\n",
       "       [1, 0, 1, 0, 1, 0, 1, 0],\n",
       "       [0, 1, 0, 1, 0, 1, 0, 1],\n",
       "       [1, 0, 1, 0, 1, 0, 1, 0],\n",
       "       [0, 1, 0, 1, 0, 1, 0, 1],\n",
       "       [1, 0, 1, 0, 1, 0, 1, 0],\n",
       "       [0, 1, 0, 1, 0, 1, 0, 1],\n",
       "       [1, 0, 1, 0, 1, 0, 1, 0]])"
      ]
     },
     "execution_count": 3,
     "metadata": {},
     "output_type": "execute_result"
    }
   ],
   "source": [
    "my_arr = np.rot90(np.identity(2, dtype = int))\n",
    "\n",
    "my_arr2 = np.vstack((my_arr,my_arr,my_arr,my_arr))\n",
    "np.hstack((my_arr2,my_arr2,my_arr2,my_arr2))"
   ]
  },
  {
   "cell_type": "markdown",
   "id": "cb7ea24f",
   "metadata": {},
   "source": [
    "This is 3 step solution, first we are creating 2x2 identity matrix and then rotating the matrix by 90 degree. Next step is use `vstack` & `hstack` functions to get required output. \n",
    "\n",
    "Note : this may not be the perfect solution, I am using these function just for the sake of this tutorial.\n",
    "\n",
    "Now lets move ahead with the last function."
   ]
  },
  {
   "cell_type": "markdown",
   "id": "27170487",
   "metadata": {},
   "source": [
    "## 5. [numpy.tile()](https://numpy.org/doc/stable/reference/generated/numpy.tile.html)\n",
    "\n",
    "This function creates a new array by repeating an input array.\n",
    "\n",
    "**Syntax**\n",
    "```\n",
    "numpy.tile(A, reps)\n",
    "\n",
    "A: The input array.\n",
    "reps: The number of repetitions of A along each axis.\n",
    "```"
   ]
  },
  {
   "cell_type": "markdown",
   "id": "9e3893b8",
   "metadata": {},
   "source": [
    "### Basic example of Numpy tile function"
   ]
  },
  {
   "cell_type": "code",
   "execution_count": 20,
   "id": "61e08d3e",
   "metadata": {},
   "outputs": [
    {
     "name": "stdout",
     "output_type": "stream",
     "text": [
      "Input array : [0 1 2]\n",
      "\n",
      " Output : [0 1 2 0 1 2]\n"
     ]
    }
   ],
   "source": [
    "arr = np.array([0, 1, 2])\n",
    "\n",
    "print('Input array :', arr)\n",
    "c = np.tile(arr, 2)\n",
    "\n",
    "print('\\n Output :', c)"
   ]
  },
  {
   "cell_type": "markdown",
   "id": "319f580b",
   "metadata": {},
   "source": [
    "In this example we are trying to repeat the `arr` twice using `tile` function "
   ]
  },
  {
   "cell_type": "markdown",
   "id": "ca310175",
   "metadata": {},
   "source": [
    "### Using tile to repeat array vertically "
   ]
  },
  {
   "cell_type": "code",
   "execution_count": 21,
   "id": "0a930203",
   "metadata": {},
   "outputs": [
    {
     "name": "stdout",
     "output_type": "stream",
     "text": [
      "Input array : [11 22 33]\n",
      "\n",
      " Output :\n",
      " [[11 22 33]\n",
      " [11 22 33]\n",
      " [11 22 33]]\n"
     ]
    }
   ],
   "source": [
    "arr = np.array([11, 22, 33])\n",
    "print('Input array :', arr)\n",
    "\n",
    "reps = (3,1)\n",
    "c = np.tile(arr, reps)\n",
    "print('\\n Output :\\n', c)"
   ]
  },
  {
   "cell_type": "markdown",
   "id": "eec546d2",
   "metadata": {},
   "source": [
    "Since reps has value (3, 1) tile function is repeating array three times vertically. you can further expand this repetition horizontally just by increasing second element of `reps` "
   ]
  },
  {
   "cell_type": "markdown",
   "id": "b9781a53",
   "metadata": {},
   "source": [
    "### Real world use case of tile()\n",
    "\n",
    "I am using same checkerboard problem but lets improve the earlier solution using tile function.\n",
    "\n",
    "Create a 8x8 matrix and fill it with a checkerboard pattern?\n",
    "\n",
    "Lets use above information to solve this question."
   ]
  },
  {
   "cell_type": "code",
   "execution_count": 22,
   "id": "f60c485e",
   "metadata": {},
   "outputs": [
    {
     "name": "stdout",
     "output_type": "stream",
     "text": [
      "Printing 8x8 checkerboard pattern\n"
     ]
    },
    {
     "data": {
      "text/plain": [
       "array([[0, 1, 0, 1, 0, 1, 0, 1],\n",
       "       [1, 0, 1, 0, 1, 0, 1, 0],\n",
       "       [0, 1, 0, 1, 0, 1, 0, 1],\n",
       "       [1, 0, 1, 0, 1, 0, 1, 0],\n",
       "       [0, 1, 0, 1, 0, 1, 0, 1],\n",
       "       [1, 0, 1, 0, 1, 0, 1, 0],\n",
       "       [0, 1, 0, 1, 0, 1, 0, 1],\n",
       "       [1, 0, 1, 0, 1, 0, 1, 0]])"
      ]
     },
     "execution_count": 22,
     "metadata": {},
     "output_type": "execute_result"
    }
   ],
   "source": [
    "my_arr = np.rot90(np.identity(2, dtype = int))\n",
    "\n",
    "reps = (4,4)\n",
    "print('Printing 8x8 checkerboard pattern')\n",
    "np.tile(my_arr, reps)"
   ]
  },
  {
   "cell_type": "markdown",
   "id": "834d66f0",
   "metadata": {},
   "source": [
    "We first created 2x2 identity matrix and rotate that matrix by 90 degree , and then used `tile` function to repeat this matrix horizontally and vertically 4 times each.\n"
   ]
  },
  {
   "cell_type": "markdown",
   "id": "9b307775",
   "metadata": {},
   "source": [
    "## Reference Links\n",
    "\n",
    "References to some useful links.\n",
    "* https://numpy.org/doc/stable/user/quickstart.html\n",
    "* https://numpy.org/doc/stable/reference/index.html\n"
   ]
  },
  {
   "cell_type": "markdown",
   "id": "ba7b2740",
   "metadata": {},
   "source": [
    "## Conclusion\n",
    "\n",
    "In this article, we learned following Numpy functions.\n",
    "\n",
    "* `numpy.where()`\n",
    "* `numpy.linalg.solve()`\n",
    "* `numpy.cumsum()`\n",
    "* `numpy.rot90()`\n",
    "* `numpy.tile()`\n",
    "\n",
    "I hope I was able to teach you these functions , and it would useful in you data science journey.\n",
    "\n",
    "Thank you for reading. Happy coding!!!\n",
    "\n"
   ]
  },
  {
   "cell_type": "code",
   "execution_count": null,
   "id": "d0430c4f",
   "metadata": {},
   "outputs": [
    {
     "data": {
      "application/javascript": [
       "window.require && require([\"base/js/namespace\"],function(Jupyter){Jupyter.notebook.save_checkpoint()})"
      ],
      "text/plain": [
       "<IPython.core.display.Javascript object>"
      ]
     },
     "metadata": {},
     "output_type": "display_data"
    }
   ],
   "source": [
    "jovian.commit()"
   ]
  },
  {
   "cell_type": "code",
   "execution_count": null,
   "id": "654c2ad1",
   "metadata": {},
   "outputs": [],
   "source": []
  }
 ],
 "metadata": {
  "language_info": {
   "codemirror_mode": {
    "name": "ipython",
    "version": 3
   },
   "file_extension": ".py",
   "mimetype": "text/x-python",
   "name": "python",
   "nbconvert_exporter": "python",
   "pygments_lexer": "ipython3",
   "version": "3.9.6"
  }
 },
 "nbformat": 4,
 "nbformat_minor": 5
}